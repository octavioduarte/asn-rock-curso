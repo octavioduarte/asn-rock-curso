{
 "cells": [
  {
   "cell_type": "markdown",
   "id": "ae231fda-206b-44ea-b84d-cecdd12df444",
   "metadata": {},
   "source": [
    "## Gráfico de Pizza\n",
    "\n",
    "- É um diagrama circular.\n",
    "- Usado (normalmente) para variáveis qualitativas.\n",
    "- Cada fatia representa as frequências ou outra medida de interesse de cada valor da variável analisada.\n",
    "\n",
    "\n",
    "Ressalvas:\n",
    "\n",
    "- Não são muito recomendados por algumas limitações:\n",
    "    - Se a quantidade de variações de valores da variável analisada for muito grande o gráfico fica inviável de ser usado.\n",
    "    - Por ser redondo pode causar uma \"ilusão de ótica\" onde consideramos uma fatia maior do que a outra.\n",
    "\n",
    "\n",
    "Podem ser usados quando:\n",
    "\n",
    "- Não existe grande variação dos valores analisados.\n",
    "- E recomenda-se o uso com legenda."
   ]
  }
 ],
 "metadata": {
  "kernelspec": {
   "display_name": "Python 3 (ipykernel)",
   "language": "python",
   "name": "python3"
  },
  "language_info": {
   "codemirror_mode": {
    "name": "ipython",
    "version": 3
   },
   "file_extension": ".py",
   "mimetype": "text/x-python",
   "name": "python",
   "nbconvert_exporter": "python",
   "pygments_lexer": "ipython3",
   "version": "3.13.5"
  }
 },
 "nbformat": 4,
 "nbformat_minor": 5
}
