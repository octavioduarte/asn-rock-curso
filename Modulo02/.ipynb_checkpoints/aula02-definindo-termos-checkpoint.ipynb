{
 "cells": [
  {
   "attachments": {},
   "cell_type": "markdown",
   "id": "08c5e339-d461-4805-8a73-b15b1ce77b5e",
   "metadata": {},
   "source": [
    "## Conhecendo termos utilizados na área de ciência de dados:\n",
    "\n",
    "<p font-size=\"6px\">Apesar de ter diferentes nomes alguns termos são usados pra referenciar a mesma coisa</p>\n",
    "\n",
    "\n",
    "<h4>Estatística</h4>\n",
    "\n",
    "A estatística era associada a uma definição no passado e hoje com a ascensão da inteligência artificial passou a ser associada a outra - Mas podemos compreender o papel de um estatístico como alguém que compreende a relação matemática entre números para gerar análises e extrair valor (de negócio) daquilo.\n",
    "\n",
    "<hr/>\n",
    "\n",
    "<h4>Dados</h4>\n",
    "\n",
    "São os fatos e números coletados e sintetizados para análsie, interpretação e apresentação.\n",
    "\n",
    "<hr/>\n",
    "\n",
    "<h4>Observações</h4>\n",
    "\n",
    "São as entidades a respeito das quais se coletam os dados (O objeto de estudo).\n",
    "\n",
    "<hr/>\n",
    "\n",
    "\n",
    "<h4>Variáveis</h4>\n",
    "\n",
    "Uma característica da observação.\n",
    "\n",
    "Dentro do conceito de variáveis temos alguns outros pontos para serem compreendidos, uma variável pode ser de 2 tipos:\n",
    "\n",
    "**Qualitativa:** Representa uma qualidade do objeto de estudo, podendo ser:\n",
    "\n",
    "<span style=\"color: blue; font-weight: 800\">Nominal</span>: Característica que não exige (ou se importa) com uma ordem entre elas\n",
    "\n",
    "<span style=\"color: blue; font-weight: 800\">Ordinal</span>: Característica que exige (ou se importa) com uma ordem entre elas.\n",
    "\n",
    "\n",
    "**Quantitativa:** Representa uma quantidade do seu objeto de estudo! Pode ser dividida em dois dipos:\n",
    "\n",
    "<span style=\"color: blue; font-weight: 800\">Discreta</span>: Descreve alguma quantidade sobre o objeto de estudo\n",
    "\n",
    "<span style=\"color: blue; font-weight: 800\">Contínua</span>: Mensura alguma medida sobre o objeto de estudo.\n",
    "\n",
    "\n",
    "<img src=\"./imagens/tipos_de_variaveis.jpeg\" alt=\"Tipos de de Variáveis\" width=\"500\"/>\n",
    "\n",
    "Extraído de: https://josenaldo.com.br/caderno-estatistica/aulas/aula-002\n",
    "\n",
    "<hr/>\n",
    "\n",
    "<h4>Contextos</h4>\n",
    "\n",
    "De suma importância entender o contexto de negócio que envolve todos os dados coletados/analisados. De nada adianta boas técnicas se não tiverem alinhadas ao propósito de negócio e compreender também o contexto dos dados coletados e como estão estruturados."
   ]
  }
 ],
 "metadata": {
  "kernelspec": {
   "display_name": "Python 3 (ipykernel)",
   "language": "python",
   "name": "python3"
  },
  "language_info": {
   "codemirror_mode": {
    "name": "ipython",
    "version": 3
   },
   "file_extension": ".py",
   "mimetype": "text/x-python",
   "name": "python",
   "nbconvert_exporter": "python",
   "pygments_lexer": "ipython3",
   "version": "3.13.5"
  }
 },
 "nbformat": 4,
 "nbformat_minor": 5
}
