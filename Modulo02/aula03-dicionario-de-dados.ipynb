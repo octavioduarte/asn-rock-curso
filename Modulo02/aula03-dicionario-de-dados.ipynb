{
 "cells": [
  {
   "cell_type": "markdown",
   "id": "d004cfeb-0886-4555-afa5-4ba6f9e6b8eb",
   "metadata": {},
   "source": [
    "## Dicionário de dados\n",
    "\n",
    "Um dicionário de dados é uma coleção de **metadados** que contém descrições e representações de elementos de dados.\n",
    "\n",
    "\n",
    "Um conjunto de dados:\n",
    "\n",
    "| Nome             | ID     | Curso               | Progresso | Status     |\n",
    "|------------------|--------|---------------------|-----------|------------|\n",
    "| Ana Oliveira     | A001   | Desenvolvimento Web | 80       | Ativo      |\n",
    "| Bruno Silva      | A002   | Ciência de Dados    | 65      | Ativo      |\n",
    "| Carla Souza      | A003   | Design Gráfico      | 100      | Concluído  |\n",
    "| Daniel Costa     | A004   | Engenharia de Software | 40   | Ativo      |\n",
    "| Elaine Martins   | A005   | Marketing Digital   | 0      | Inativo    |\n",
    "\n",
    "\n",
    "<br/>\n",
    "<br/>\n",
    "<br/>\n",
    "\n",
    "\n",
    "Um simples dicionário de dados\n",
    "\n",
    "| Variável | Descrição     | Tipo      |\n",
    "|------------------|--------|---------------------|\n",
    "| Nome     | Primeiro e segundo nome do aluno   | Nominal | \n",
    "| ID      | Identificador do aluno no sistema du curso - Composto pelo prefixo da turma + Número na lista da chamada   | Nominal    | \n",
    "| Curso      | Título do curso em que o aluno está matriculado   | Nominal     | \n",
    "| Progresso     | Número entre 0 e 100 que descreve o progresso do aluno   | Contínua | \n",
    "| Tipo   | Status da mátricula do aluno no curso - Sendo possível ser \"Ativo\" - \"Concluído\" e \"Inativo\"   | Nominal   |  "
   ]
  }
 ],
 "metadata": {
  "kernelspec": {
   "display_name": "Python 3 (ipykernel)",
   "language": "python",
   "name": "python3"
  },
  "language_info": {
   "codemirror_mode": {
    "name": "ipython",
    "version": 3
   },
   "file_extension": ".py",
   "mimetype": "text/x-python",
   "name": "python",
   "nbconvert_exporter": "python",
   "pygments_lexer": "ipython3",
   "version": "3.13.5"
  }
 },
 "nbformat": 4,
 "nbformat_minor": 5
}
