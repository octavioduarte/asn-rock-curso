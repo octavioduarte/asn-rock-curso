{
 "cells": [
  {
   "cell_type": "code",
   "execution_count": 8,
   "id": "3c24ca37-d648-46f3-99ef-79296c7c85a7",
   "metadata": {},
   "outputs": [],
   "source": [
    "import numpy as np"
   ]
  },
  {
   "cell_type": "markdown",
   "id": "311f630a-08c0-45b0-bd1c-58b41a00c886",
   "metadata": {},
   "source": [
    "### Amplitude\n",
    "\n",
    "A amplitude serve para verificarmos o quão espaçado é o intervalo entre nossos dados. Seu resultado se dá pela subtração do maior valor pelo menor:\n",
    "\n",
    "$$\n",
    "A = V_{\\text{máx}} - V_{\\text{mín}}\n",
    "$$\n",
    "\n",
    "</br>\n",
    "\n",
    "Caso o valor da amplitude seja alto, signfica que temos um intervalo grande entre nossos dados e o inverso também se torna verdade, ou seja, amplitude baixa intervalo pequeno."
   ]
  },
  {
   "cell_type": "code",
   "execution_count": 13,
   "id": "a893e60b-f13a-483c-a327-0e59e0811e26",
   "metadata": {},
   "outputs": [
    {
     "name": "stdout",
     "output_type": "stream",
     "text": [
      "Amplitude =  94\n"
     ]
    }
   ],
   "source": [
    "any_list = np.array([90, 98, 99, 5, 11, 15, 17])\n",
    "\n",
    "min_value = np.min(any_list)\n",
    "max_value = np.max(any_list)\n",
    "\n",
    "print(\"Amplitude = \", max_value - min_value) "
   ]
  }
 ],
 "metadata": {
  "kernelspec": {
   "display_name": "Python 3 (ipykernel)",
   "language": "python",
   "name": "python3"
  },
  "language_info": {
   "codemirror_mode": {
    "name": "ipython",
    "version": 3
   },
   "file_extension": ".py",
   "mimetype": "text/x-python",
   "name": "python",
   "nbconvert_exporter": "python",
   "pygments_lexer": "ipython3",
   "version": "3.13.5"
  }
 },
 "nbformat": 4,
 "nbformat_minor": 5
}
