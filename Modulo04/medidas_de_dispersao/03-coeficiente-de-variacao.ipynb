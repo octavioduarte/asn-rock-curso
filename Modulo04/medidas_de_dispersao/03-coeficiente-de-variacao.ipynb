{
 "cells": [
  {
   "cell_type": "markdown",
   "id": "81304474-4143-41ae-8169-9eefe1e8f8b1",
   "metadata": {},
   "source": [
    "### Coeficiente de variação\n",
    "\n",
    "O coeficiente de variação é uma medida que nos ajuda a perceber o quanto os dados variam em relação a média - Ele nos traz essa informação em forma de porcentagem o que significa que ao contrário do desvio padrão ele não é influenciado pela unidade de medida do conjunto.\n",
    "\n",
    "<br/>\n",
    "$$\n",
    "CV = \\frac{\\sigma}{\\mu} \\times 100\n",
    "$$\n",
    "\n",
    "<br/>\n",
    "Média dividida pelo desvio padrão multiplicado por 100.\n"
   ]
  },
  {
   "cell_type": "markdown",
   "id": "592f9861-aebf-4610-b36a-5074bf99919c",
   "metadata": {},
   "source": [
    "#### Como interpretar o Coeficiente de Variação?"
   ]
  },
  {
   "cell_type": "markdown",
   "id": "ca0405fd-e239-40c0-9188-3b48ae4b4d62",
   "metadata": {},
   "source": [
    "O coeficiente de variação serve para entendermos se estamos lidando com dados com alta ou baixa variabilidade:\n",
    "\n",
    "- Quanto menor o CV, mais regular, estável e consistente é o conjunto de dados.\n",
    "- Quanto maior o CV, maior é a variação e a instabilidade dos dados em relação à média.\n",
    "\n",
    "<br/>\n",
    "\n",
    "(<a href=\"https://www.todamateria.com.br/coeficiente-de-variacao-o-que-e-e-aprenda-a-calcular-com-exemplos/\">Referência</a>)\n",
    "\n"
   ]
  },
  {
   "cell_type": "markdown",
   "id": "d8c938ff-180d-4f20-8718-2d0d4b32c66d",
   "metadata": {},
   "source": [
    "#### Aplicando o Coeficiente de Variação e interpretando o resultado.\n",
    "\n",
    "Criando um problema ficticio onde 2 conjuntos representam a produtividade de diferentes equipes de uma empresa, ou seja, um conjunto armazena quantas tarefas uma equipe A concluiu e outro conjunto quantas tarefas a equipe B concluiu - Através do Coeficiente de Variação seremos capazes de afirmar qual equipe oscila menos na quantidade de entregas."
   ]
  },
  {
   "cell_type": "code",
   "execution_count": 1,
   "id": "16a17787-956b-4358-81b4-f8d1b70e089a",
   "metadata": {},
   "outputs": [],
   "source": [
    "import numpy as np"
   ]
  },
  {
   "cell_type": "code",
   "execution_count": 12,
   "id": "0cb934c8-71e6-4655-863a-df3cf05f3f9a",
   "metadata": {},
   "outputs": [
    {
     "name": "stdout",
     "output_type": "stream",
     "text": [
      "Variancia time A 1.55\n",
      "Variancia time B 125.92\n",
      "\n",
      "Desvio padrão time A 1.24\n",
      "Desvio padrão time B 11.22\n",
      "\n",
      "Coeficiente de variação time A 6.24\n",
      "Coeficiente de variação time B 51.67\n"
     ]
    }
   ],
   "source": [
    "### Definindo os conjuntos\n",
    "\n",
    "team_a = np.array([18,20,19,21,22,20,19])\n",
    "team_b = np.array([5,12,20,30,42,18,25])\n",
    "\n",
    "\n",
    "### Calculando o desvio padrão de ambos\n",
    "\n",
    "# 1 - Tira-se a média\n",
    "\n",
    "mean_team_a = np.mean(team_a)\n",
    "mean_team_b = np.mean(team_b)\n",
    "\n",
    "# 2 - Subtraindo os valores do conjunto pela média\n",
    "\n",
    "team_a_minus_mean = team_a - mean_team_a\n",
    "team_b_minus_mean = team_b - mean_team_b\n",
    "\n",
    "# 3 - Resultado da operação anterior elevado ao quadrado\n",
    "\n",
    "team_a_minus_mean_squared = team_a_minus_mean ** 2\n",
    "team_b_minus_mean_squared = team_b_minus_mean ** 2\n",
    "\n",
    "# 4 - Soma-se os valores da operação anterior e divide pelo tamanho do conjunto\n",
    "\n",
    "variance_team_a = round((np.sum(team_a_minus_mean_squared)) / len(team_a), 2)\n",
    "variance_team_b = round((np.sum(team_b_minus_mean_squared)) / len(team_b), 2)\n",
    "\n",
    "sd_team_a = round(variance_team_a ** 0.5, 2)\n",
    "sd_team_b = round(variance_team_b ** 0.5, 2)\n",
    "\n",
    "\n",
    "print(\"Variancia time A\", variance_team_a)\n",
    "print(\"Variancia time B\", variance_team_b)\n",
    "print()\n",
    "print(\"Desvio padrão time A\", sd_team_a)\n",
    "print(\"Desvio padrão time B\", sd_team_b)\n",
    "print()\n",
    "\n",
    "# Agora podemos calcular o coeficiente de variação: \n",
    "\n",
    "cv_team_a = round((sd_team_a / mean_team_a) * 100,2)\n",
    "cv_team_b = round((sd_team_b / mean_team_b) * 100,2)\n",
    "\n",
    "print(\"Coeficiente de variação time A\", cv_team_a)\n",
    "print(\"Coeficiente de variação time B\", cv_team_b)"
   ]
  },
  {
   "cell_type": "markdown",
   "id": "799ed444-c418-4bab-9d29-e4fdf1b990b9",
   "metadata": {},
   "source": [
    "#### Como podemos interpretar os valores acima?\n",
    "\n",
    "A resposta que chegamos é que:\n",
    "\n",
    "- Time A tem o CV como 6.24%\n",
    "- Time B tem o CV como 51.67%\n",
    "\n",
    "O que podemos afirmar é que o time B é menos consistente em suas entregas, ou seja, é um time com mais altos e baixos se comparado ao time A que tem um nível mais equilibrado de entregas.\n",
    "\n",
    "#### O Time A entrega mais que o time B?\n",
    "\n",
    "Não podemos fazer essa afirmação com o Coeficiente de Variação - As percepções que essa medida nos traz é sobre como os valores se comportam em relação a média, ou seja, dado 2 diferentes conjuntos qual tem os dados mais dispersos."
   ]
  },
  {
   "cell_type": "markdown",
   "id": "a249e4ee-3c01-4ea0-ba82-eabd0d7cb2d0",
   "metadata": {},
   "source": [
    "#### Desvio Padrão & Coeficiente de Variação - Quais as diferenças? E o que nos permitem afirmar em relação a um conjunto?\n",
    "\n",
    "\n",
    "Ambos são medidas que ajudam a entender o quanto os dados estão dispersos em relação à média.\n",
    "\n",
    "O Desvio Padrão (DP) mostra essa dispersão de forma absoluta, ou seja, na mesma unidade dos dados.\n",
    "\n",
    "O Coeficiente de Variação (CV) mostra essa dispersão de forma relativa, em percentual, comparando o desvio com o valor da média.\n",
    "\n",
    "O Desvio Padrão pode ser difícil de interpretar sozinho, porque seu valor depende da escala dos dados. Por exemplo: um DP de 10 é grande ou pequeno?  Se os dados variam entre 1 e 12, 10 é muito. Mas se os dados variam entre 1 e um milhão, 10 é pouco. Por isso, o DP é uma medida que precisa ser analisada dentro do contexto.\n",
    "\n",
    "Já o Coeficiente de Variação expressa essa variação em percentual, o que facilita comparações entre conjuntos com escalas diferentes. Por exemplo, um CV de 10% indica que, em média, os dados variam 10% em relação à média, independentemente da unidade ou escala dos valores.\n",
    "\n",
    "#### Um CV de 10% ou um DP de 10 indicam que os dados variam até 10% ou 10 unidades em relação à média?\n",
    "\n",
    "**Não** - Tanto o DP quanto o CV indicam o quanto os dados se desviam em média da média — não o desvio máximo.\n",
    "\n",
    "Um CV de 10% significa que, em média, os dados estão a 10% de distância da média.\n",
    "\n",
    "Um DP de 10 significa que, em média, os dados estão a 10 unidades (na unidade de medida dos dados) de distância da média."
   ]
  },
  {
   "cell_type": "code",
   "execution_count": null,
   "id": "e53cdeae-0286-480f-91bf-d6a4e9505e17",
   "metadata": {},
   "outputs": [],
   "source": []
  }
 ],
 "metadata": {
  "kernelspec": {
   "display_name": "Python 3 (ipykernel)",
   "language": "python",
   "name": "python3"
  },
  "language_info": {
   "codemirror_mode": {
    "name": "ipython",
    "version": 3
   },
   "file_extension": ".py",
   "mimetype": "text/x-python",
   "name": "python",
   "nbconvert_exporter": "python",
   "pygments_lexer": "ipython3",
   "version": "3.13.5"
  }
 },
 "nbformat": 4,
 "nbformat_minor": 5
}
