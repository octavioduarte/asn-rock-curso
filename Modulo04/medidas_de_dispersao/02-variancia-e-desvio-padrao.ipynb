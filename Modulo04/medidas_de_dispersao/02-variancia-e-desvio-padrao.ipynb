{
 "cells": [
  {
   "cell_type": "markdown",
   "id": "b20f5cdc-1eda-4455-93f5-2b44ebe6cf2b",
   "metadata": {},
   "source": [
    "### Variância e Desvio Padrão\n",
    "\n",
    "Variância e desvio padrão são medidas de dispersão - Em outras palavras medidas utilizadas para verificar o quanto os dados de um conjunto podem variar."
   ]
  },
  {
   "cell_type": "markdown",
   "id": "0c24653b-e382-49c6-80a4-7111e83583c5",
   "metadata": {},
   "source": [
    "#### Variância"
   ]
  },
  {
   "cell_type": "markdown",
   "id": "0761e366-b55f-488f-96b8-4d1b1d4053e5",
   "metadata": {},
   "source": [
    "\n",
    "$$\n",
    "\\sigma^2 = \\frac{\\sum_{i=1}^{N} (x_i - \\mu)^2}{N}\n",
    "$$\n",
    "\n",
    "\n",
    "<br/>\n",
    "\n",
    "\n",
    "Passo a passa para obter o valor da variância populacional:\n",
    "\n",
    "- 1  Tirar a média do conjunto:\n",
    "\n",
    "$$\n",
    " \\mu\n",
    "$$\n",
    "\n",
    "- 2  Para cada valor do conjunto vamos realizar a subtração dele pelo valor da média:\n",
    "\n",
    "$$\n",
    "(x_i - \\mu)\n",
    "$$\n",
    "\n",
    "- 3  Para cada resultado da operação anterior - Vamos elevar ao quadrado:\n",
    "\n",
    "$$\n",
    "(x_i - \\mu)^2\n",
    "$$\n",
    "\n",
    "\n",
    "- 4  Depois vamos fazer um somatório destes valores e dividir pela quantidade de elementos:\n",
    "\n",
    "$$\n",
    "\\frac{\\sum_{i=1}^{N} (x_i - \\mu)^2}{N}\n",
    "$$"
   ]
  },
  {
   "cell_type": "markdown",
   "id": "bc44dd61-b90d-4d32-a766-e7cf71542ecb",
   "metadata": {
    "jp-MarkdownHeadingCollapsed": true
   },
   "source": [
    "#### Desvio Padrão"
   ]
  },
  {
   "cell_type": "markdown",
   "id": "85117ee9-35e3-49f2-adef-a259f3383549",
   "metadata": {},
   "source": [
    "$$\n",
    "\\sigma = \\sqrt{\\frac{\\sum_{i=1}^{N} (x_i - \\mu)^2}{N}}\n",
    "$$\n",
    "\n",
    "<p style=\"text-align: center\">A fórmula do desvio padrão se resume em tirar a raiz quadrada da variância"
   ]
  },
  {
   "cell_type": "markdown",
   "id": "93e2ad0b-a404-4210-9bc1-bedd9b9b8af0",
   "metadata": {},
   "source": [
    "#### Aplicando estes conceitos com  Numpy"
   ]
  },
  {
   "cell_type": "code",
   "execution_count": 3,
   "id": "91860da4-b37d-436a-8d9b-6364d25fbff5",
   "metadata": {},
   "outputs": [],
   "source": [
    "import numpy as np\n",
    "\n",
    "data = np.array([148, 170, 155, 131])"
   ]
  },
  {
   "cell_type": "markdown",
   "id": "c0397219-b310-46f3-88f6-952c97739330",
   "metadata": {},
   "source": [
    "##### Média do conjunto"
   ]
  },
  {
   "cell_type": "code",
   "execution_count": 8,
   "id": "d767299d-3199-431a-adf1-b349de24135b",
   "metadata": {},
   "outputs": [
    {
     "name": "stdout",
     "output_type": "stream",
     "text": [
      "151.0\n"
     ]
    }
   ],
   "source": [
    "data_mean = np.mean(data)\n",
    "print(data_mean)"
   ]
  },
  {
   "cell_type": "markdown",
   "id": "a0e33c43-9afe-4c09-9920-2c08215a3243",
   "metadata": {},
   "source": [
    "##### Valores do conjunto menos a média"
   ]
  },
  {
   "cell_type": "code",
   "execution_count": 9,
   "id": "0e27ab5a-7d6c-448c-bbd1-c1fff77eb7a8",
   "metadata": {},
   "outputs": [
    {
     "name": "stdout",
     "output_type": "stream",
     "text": [
      "[ -3.  19.   4. -20.]\n"
     ]
    }
   ],
   "source": [
    "data_minus_mean = data - data_mean\n",
    "print(data_minus_mean)"
   ]
  },
  {
   "cell_type": "markdown",
   "id": "2ba047d3-69e0-4e6e-9add-d8544fc7e86c",
   "metadata": {},
   "source": [
    "##### Resulado da operação anterior elevado ao quadrado"
   ]
  },
  {
   "cell_type": "code",
   "execution_count": 21,
   "id": "2ae1c711-261e-4361-80ae-b06956341c8b",
   "metadata": {},
   "outputs": [
    {
     "name": "stdout",
     "output_type": "stream",
     "text": [
      "[  9. 361.  16. 400.]\n"
     ]
    }
   ],
   "source": [
    "data_minus_mean_squared = data_minus_mean ** 2\n",
    "print(data_minus_mean_squared)"
   ]
  },
  {
   "cell_type": "markdown",
   "id": "04549b77-72e9-4871-82fd-ac2448727562",
   "metadata": {},
   "source": [
    "Somatório destes valores e dividir pela quantidade de elementos:"
   ]
  },
  {
   "cell_type": "code",
   "execution_count": 20,
   "id": "772c4be4-5002-4f4f-90fd-098b53824f7f",
   "metadata": {},
   "outputs": [
    {
     "name": "stdout",
     "output_type": "stream",
     "text": [
      "Variância 196.5\n",
      "Desvio padrão 14.017845768876187\n"
     ]
    }
   ],
   "source": [
    "variance = (np.sum(data_minus_mean_squared)) / len(data)\n",
    "print(\"Variância\", variance)\n",
    "print(\"Desvio padrão\", variance ** 0.5)"
   ]
  }
 ],
 "metadata": {
  "kernelspec": {
   "display_name": "Python 3 (ipykernel)",
   "language": "python",
   "name": "python3"
  },
  "language_info": {
   "codemirror_mode": {
    "name": "ipython",
    "version": 3
   },
   "file_extension": ".py",
   "mimetype": "text/x-python",
   "name": "python",
   "nbconvert_exporter": "python",
   "pygments_lexer": "ipython3",
   "version": "3.13.5"
  }
 },
 "nbformat": 4,
 "nbformat_minor": 5
}
