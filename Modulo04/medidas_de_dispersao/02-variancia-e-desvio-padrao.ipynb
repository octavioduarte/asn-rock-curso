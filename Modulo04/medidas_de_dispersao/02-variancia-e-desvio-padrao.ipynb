{
 "cells": [
  {
   "cell_type": "markdown",
   "id": "b20f5cdc-1eda-4455-93f5-2b44ebe6cf2b",
   "metadata": {},
   "source": [
    "### Variância e Desvio Padrão\n",
    "\n",
    "Variância e desvio padrão são medidas de dispersão - Em outras palavras medidas utilizadas para verificar o quanto os dados de um conjunto podem variar."
   ]
  },
  {
   "cell_type": "markdown",
   "id": "0c24653b-e382-49c6-80a4-7111e83583c5",
   "metadata": {
    "jp-MarkdownHeadingCollapsed": true
   },
   "source": [
    "#### Variância"
   ]
  },
  {
   "cell_type": "markdown",
   "id": "0761e366-b55f-488f-96b8-4d1b1d4053e5",
   "metadata": {},
   "source": [
    "\n",
    "$$\n",
    "\\sigma^2 = \\frac{\\sum_{i=1}^{N} (x_i - \\mu)^2}{N}\n",
    "$$\n",
    "\n",
    "\n",
    "<br/>\n",
    "\n",
    "\n",
    "Passo a passa para obter o valor da variância populacional:\n",
    "\n",
    "- 1  Tirar a média do conjunto:\n",
    "\n",
    "$$\n",
    " \\mu\n",
    "$$\n",
    "\n",
    "- 2  Para cada valor do conjunto vamos realizar a subtração dele pelo valor da média:\n",
    "\n",
    "$$\n",
    "(x_i - \\mu)\n",
    "$$\n",
    "\n",
    "- 3  Para cada resultado da operação anterior - Vamos elevar ao quadrado:\n",
    "\n",
    "$$\n",
    "(x_i - \\mu)^2\n",
    "$$\n",
    "\n",
    "\n",
    "- 4  Depois vamos fazer um somatório destes valores e dividir pela quantidade de elementos:\n",
    "\n",
    "$$\n",
    "\\frac{\\sum_{i=1}^{N} (x_i - \\mu)^2}{N}\n",
    "$$"
   ]
  },
  {
   "cell_type": "markdown",
   "id": "494da1e0-b370-4352-91af-e5db8087cda4",
   "metadata": {
    "jp-MarkdownHeadingCollapsed": true
   },
   "source": [
    "#### Desvio Padrão"
   ]
  },
  {
   "cell_type": "markdown",
   "id": "85117ee9-35e3-49f2-adef-a259f3383549",
   "metadata": {},
   "source": [
    "$$\n",
    "\\sigma = \\sqrt{\\frac{\\sum_{i=1}^{N} (x_i - \\mu)^2}{N}}\n",
    "$$\n",
    "\n",
    "<p style=\"text-align: center\">A fórmula do desvio padrão se resume em tirar a raiz quadrada da variância"
   ]
  }
 ],
 "metadata": {
  "kernelspec": {
   "display_name": "Python 3 (ipykernel)",
   "language": "python",
   "name": "python3"
  },
  "language_info": {
   "codemirror_mode": {
    "name": "ipython",
    "version": 3
   },
   "file_extension": ".py",
   "mimetype": "text/x-python",
   "name": "python",
   "nbconvert_exporter": "python",
   "pygments_lexer": "ipython3",
   "version": "3.13.5"
  }
 },
 "nbformat": 4,
 "nbformat_minor": 5
}
