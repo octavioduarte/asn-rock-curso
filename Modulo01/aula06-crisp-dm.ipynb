{
 "cells": [
  {
   "cell_type": "markdown",
   "id": "47764dc0-7c8b-4f33-8f7e-ab80024f7034",
   "metadata": {
    "jp-MarkdownHeadingCollapsed": true
   },
   "source": [
    "### CRISP-DM (Cross-Industry Standard Process for Data Mining - Processo Padrão Intersetorial para Mineração de Dados)\n",
    "\n",
    "<br/>\n",
    "\n",
    "O CRISP-DM é uma métodologia que foi criada visando estabelecer etapas para um projeto de ciência de dados, são elas:\n",
    "\n",
    "<br/>\n",
    "\n",
    "\n",
    "#### 1 - Compreensão do problema de negócio\n",
    "\n",
    "Nesta etapa deve-se compreender sobre o negócio e principalmente a *dor que precisa ser resolvida* - Ocorre num formato de entrevista, onde o profissional deve coletar todas as informações para se aprofundar no contexto em que o futuro modelo irá atuar, quaisquer dúvidas que permanecerem deste processo pode desencadear em um modelo ineficiente para solucionar o problema.\n",
    "\n",
    "<br/>\n",
    "\n",
    "#### 2 - Aquisição dos dados\n",
    "\n",
    "A matéria prima - Sem os dados não é possível dar continuidade com nenhum modelo, por tanto, deve-se fazer a coleta que podem estar em diferentes fontes, como uma API, um repositório remoto, um banco de dados que está na nuvem e etc.\n",
    "    \n",
    "Obs: Se o objetivo do modelo é atender um processo automatizado, deve-se evitar fontes de dados preenchidas manualmente.\n",
    "\n",
    "<br/>\n",
    "\n",
    "#### 3 - Análise exploratória dos dados\n",
    "\n",
    "Nesta etapa é criada a ABT(Analytical base table)* - Onde concentra-se **dados relavantes** das diferentes em uma única tabela, além disso são aplicadas técnicas para **limpeza/formatação dos dados**.\n",
    "\n",
    "Obs: Costuma ser esta a etapa mais demorada do processo.\n",
    "\n",
    "<br/>\n",
    "\n",
    "#### 4 - Modelagem\n",
    "\n",
    "A etapa principal que visa construir o modelo através de técnicas de aprendizado de máquina, como árvore de decisão, KNN, naive bayes e etc - Nesta etapa diferentes algoritimos de Machine Learning são testados para identificar qual responde melhor para a dor de negócio levantada na etapa 1 através de outras técnicas voltadas para validação de modelo.\n",
    "\n",
    "<br/>\n",
    "\n",
    "#### 5 - Visualização e Comunicação\n",
    "\n",
    "<br/>\n",
    "\n",
    "Nesta etapa a área de tecnologia procura apresentar para a área de negócio os insights gerados pelo modelo através de tecnologias como Power BI, <a href=\"https://help.qlik.com/pt-BR/qlikview/May2024/Content/QV_HelpSites/what-is.htm\">Qlik View</a>, <a href=\"https://www.tableau.com/pt-br\">Tableau</a> são construídos relatórios que evidenciam a eficiência do mesmo - A ideia é que o time de negócio esteja alinhado com o funcionamento do modelo.\n",
    "\n",
    "<br/>\n",
    "\n",
    "#### 6 - Deploy - Monitoramento - Manutenção\n",
    "\n",
    "<br/>\n",
    "\n",
    "Etapa onde o modelo é colocado em ambiente produtivo - Primeiramente em um ambiente de \"Staging\" (pré-prd) onde é validado e em caso de sucesso segue o fluxo para produção - Na sequência são feitas análises do comportamento do modelo neste ambiente e se encontrados possíveis erros deve-se priorizar a manutenção dos mesmos. \n",
    "\n",
    "<br/>\n",
    "\n",
    "<hr/>\n",
    "*A tabela ABT é uma ferramenta analítica utilizada em projetos de ciência de dados e machine learning. Ela é composta por um conjunto de variáveis que serão utilizadas para construir os modelos preditivos e entender o relacionamento entre essas variáveis. Para construir a tabela ABT, é importante selecionar as variáveis relevantes para o problema em questão. Essa seleção pode ser realizada por meio de análises exploratórias dos dados e técnicas de feature engineering. (<a href=\"https://pt.linkedin.com/pulse/voc%C3%AA-j%C3%A1-ouviu-falar-em-analytical-base-table-bruno-geraldine\">Link de Referência no Linkedin</a>)"
   ]
  },
  {
   "cell_type": "markdown",
   "id": "fbcde279-69ca-4aa5-90c0-c79e9fcf62fb",
   "metadata": {},
   "source": []
  }
 ],
 "metadata": {
  "kernelspec": {
   "display_name": "Python 3 (ipykernel)",
   "language": "python",
   "name": "python3"
  },
  "language_info": {
   "codemirror_mode": {
    "name": "ipython",
    "version": 3
   },
   "file_extension": ".py",
   "mimetype": "text/x-python",
   "name": "python",
   "nbconvert_exporter": "python",
   "pygments_lexer": "ipython3",
   "version": "3.13.3"
  }
 },
 "nbformat": 4,
 "nbformat_minor": 5
}
