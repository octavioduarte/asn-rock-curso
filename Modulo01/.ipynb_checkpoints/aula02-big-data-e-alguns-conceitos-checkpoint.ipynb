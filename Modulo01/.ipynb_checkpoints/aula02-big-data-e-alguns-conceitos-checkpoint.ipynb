{
 "cells": [
  {
   "cell_type": "markdown",
   "id": "61a61c59-9bda-4741-9350-76e573e48aa3",
   "metadata": {},
   "source": [
    "### Big Data\n",
    "\n",
    "</br>\n",
    "\n",
    "<b>Hadoop:</b> É um conceito que visa segregar o armazenamento e processamento de dados em diferentes hardwares de forma paralela - O Hadoop serve para não alocarmos uma estrutura massiva de informações em um unico dispositivo, dispensando assim a necessidade de recursos robustos de hardware.\n",
    "\n",
    "</br>\n",
    "\n",
    "<b>HDFS (Hadoop Distributed File System):</b> Se o Hadoop é o conceito que implementa a distribuição dos meus dados em diferentes hardwares, o HDFS é o sistema responsável pelos arquivos contido nesses diferentes dispositivos, arquivos esses que podem ser manipulados, consultados e/ou processados - Em resumo o HDFS é um componente que integra o conceito pregado pelo Hadoop.\n",
    "\n",
    "</br>\n",
    "\n",
    "<b>MapReduce:</b> O MapReduce é o componente responsável pelo processamento dos arquivos distribuídos (HDFS) de um ecossistema Hadoop. Na prática ele é especialista em lidar com o processamento de dados distribuidos em diferentes estruturas, abstraindo as eventuais complexidades que este modelo pode trazer.\n",
    "\n",
    "\n",
    "</br>\n",
    "\n",
    "<b>Master Node:</b> O Master Node é uma espécie de orquestrador dentro do conceito do Hadoop - Se os meus dados estão distribuidos em diferentes estruturas fisicas, eu preciso garantir que eventuais concorrências na manipulação destes dados sejam bem gerenciadas, por tanto, as operações feitas pelo MapReduce são integradas ao Master Node, de forma que este gerencie a cronologia das ações e garanta o sucesso delas."
   ]
  }
 ],
 "metadata": {
  "kernelspec": {
   "display_name": "Python 3 (ipykernel)",
   "language": "python",
   "name": "python3"
  },
  "language_info": {
   "codemirror_mode": {
    "name": "ipython",
    "version": 3
   },
   "file_extension": ".py",
   "mimetype": "text/x-python",
   "name": "python",
   "nbconvert_exporter": "python",
   "pygments_lexer": "ipython3",
   "version": "3.13.3"
  }
 },
 "nbformat": 4,
 "nbformat_minor": 5
}
