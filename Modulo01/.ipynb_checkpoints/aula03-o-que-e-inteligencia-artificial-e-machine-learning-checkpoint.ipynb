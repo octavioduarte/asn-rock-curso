{
 "cells": [
  {
   "cell_type": "markdown",
   "id": "2b855ca0-1387-40b7-a55d-0c02f5a577da",
   "metadata": {
    "jp-MarkdownHeadingCollapsed": true
   },
   "source": [
    "### Inteligência Artificial\n",
    "\n",
    "</br>\n",
    "\n",
    "<b>O que é?</b>\n",
    "\n",
    "Inteligência artificial pode ser resumida como um conceito: \"Dar para uma máquina a capacidade de fazer ações humanas\", como falar, ouvir, escrever e <b>tomar decisões</b>.\n",
    "\n",
    "<b>Tomar decisões</b> é uma das ações mais exploradas pelo mercado de trabalho em uma inteligência artificial, pois estamos falando de decisões embasadas em um conjunto enorme de dados processados muito rapidamente.\n"
   ]
  },
  {
   "cell_type": "markdown",
   "id": "09c47de5-1030-46ee-a14e-b805d68fa386",
   "metadata": {
    "jp-MarkdownHeadingCollapsed": true
   },
   "source": [
    "### Como as máquinas aprendem?"
   ]
  },
  {
   "cell_type": "markdown",
   "id": "3b989133-069b-4257-9bad-7759545744dd",
   "metadata": {},
   "source": [
    "O processo de aprendizado de uma máquina é muito similar ao processo de aprendizado humano - Nós humanos quando bebês começamos depois de algumas semanas a explorar o mundo a nossa volta, observando o que está ao nosso redor, observando nossos pais, os alimentos, o céu e de forma bem natural criamos aprendizado sobre tudo isso, como quando associamos que o limão é uma fruta amarga por exemplo, em algum momento da vida todos nós ainda não sabíamos que limão é uma fruta muito amarga, mas chegou o dia em que o visualizamos pela primeira vez e podemos criar uma pequena tabela que contém todas as caracteristicas da fruta:\n",
    "\n",
    "\n",
    "| cor | alguma lembrança | aamannho | expressura da casca | sabor | \n",
    "| --- | --- | -- |  -- | -- | \n",
    "| verde | mamãe chamou de limão | não muito grande, do tamanho de uma bolinha. | dura | ? | \n",
    "\n",
    "<br/>\n",
    "\n",
    "Depois acontece a primeira e infeliz experiência de você experimentar o limão e descobre que aquela coisinha verde de tamanho pequeno que a mamãe chamou de limão tem um gosto muito ruim que causa caretas involuntárias e a partir desse momento você **aprendeu a classificar** o limão como uma fruta amarga com base em suas caracteristicas e experiências do passado - É o mesmo conceito deste exemplo que é implementado em uma inteligência artificial você ensina a máquina através de dados e ela processa aquilo e vai se tornando capaz de responder para futuras ocasiões com base naqueles dados, da mesma forma que você aprendeu um dia que o limão é amargo."
   ]
  },
  {
   "cell_type": "markdown",
   "id": "02ab8c6c-b9b3-45b3-bb33-66d8c717b8c7",
   "metadata": {},
   "source": [
    "### O conceitos de variáveis e seus tipos"
   ]
  },
  {
   "cell_type": "markdown",
   "id": "b710186b-2f13-42e7-820f-36c0391f7a81",
   "metadata": {},
   "source": [
    "Neste processo de aprendizado onde a máquina processa os dados fornecidos e se torna estatisticamente capaz de fornecer respostas para o propósito na qual foi treinado é importante destacar o conceito de variáveis e existem dois tipos, são elas:\n",
    "\n",
    "<b>Variáveis independentes:</b> São variáveis que descrevem o meu objeto mapeando suas caracteristicas:\n",
    "\n",
    "<br/>\n",
    "\n",
    "\n",
    "| Quantidade de patas | Voa     | Tamanho em cm | Tipo      | Doméstico |\n",
    "|---------------------|---------|----------------|-----------|-----------|\n",
    "| 4                   | falso   | 95             | terrestre | falso     | \n",
    "| 0                   | falso   | 5              | aquático  | verdadeiro|\n",
    "| 2                   | verdadeiro | 40          | ave       | verdadeiro|\n",
    "| 0                   | falso   | 3000           | aquático  | falso     | \n",
    "\n",
    "\n",
    "\n",
    "<br/>\n",
    "\n",
    "👆 São variáveis independentes pois descrevem o meu objeto de estudo e no caso acima estamos descrevendo animas.\n",
    "\n",
    "\n",
    "\n",
    "\n",
    "<br/>\n",
    "\n",
    "<b>Variáveis dependentes:</b> É a variável que as variáveis independentes tentam descrever, seguindo o exemplo acima seriam os animais\n",
    "\n",
    "<br/>\n",
    "\n",
    "\n",
    "| Quantidade de patas | Voa     | Tamanho em cm | Tipo      | Doméstico | <span style=\"color: blue\">Animal</span>       |\n",
    "|---------------------|---------|----------------|-----------|-----------|--------------|\n",
    "| 4                   | falso   | 95             | terrestre | falso     | porco        |\n",
    "| 0                   | falso   | 5              | aquático  | verdadeiro| peixe        |\n",
    "| 2                   | verdadeiro | 40          | ave       | verdadeiro| papagaio     |\n",
    "| 0                   | falso   | 3000           | aquático  | falso     | baleia azul  |\n"
   ]
  },
  {
   "cell_type": "markdown",
   "id": "1700b725-e67c-4040-a499-d7bb302280b7",
   "metadata": {},
   "source": [
    "### Machine Learning\n",
    "\n",
    "</br>\n",
    "\n",
    "<b>O que é?</b>\n",
    "\n",
    "Machine Learning é uma área do campo da Inteligência Artificial que visa capacitar/treinar máquinas através de dados."
   ]
  }
 ],
 "metadata": {
  "kernelspec": {
   "display_name": "Python 3 (ipykernel)",
   "language": "python",
   "name": "python3"
  },
  "language_info": {
   "codemirror_mode": {
    "name": "ipython",
    "version": 3
   },
   "file_extension": ".py",
   "mimetype": "text/x-python",
   "name": "python",
   "nbconvert_exporter": "python",
   "pygments_lexer": "ipython3",
   "version": "3.13.3"
  }
 },
 "nbformat": 4,
 "nbformat_minor": 5
}
