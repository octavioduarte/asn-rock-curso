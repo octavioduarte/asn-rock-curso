{
 "cells": [
  {
   "cell_type": "markdown",
   "id": "2b8c17a4-843d-4553-ac90-a3ccb225748e",
   "metadata": {},
   "source": [
    "### Fazendo um algoritimo na mão\n",
    "\n",
    "</br>\n",
    "\n",
    "Um algoritimo de Machine Learning se resume a elaborar equações em cima dos dados providos, de forma que encontre relações relevantes entre as variáis independentes (a que descreve meu objeto de estudo) e a minha variál independente (o meu objeto de estudo), mas é importante compreender que o meu objeto de estudo pode ter informações não tão relevantes ou até mesmo nada relavantes, por tanto é importante utilizarmos dados relevantes no nosso processo de treinamento do modelo para termos um resultado mais preciso - E uma das etapas para garantir esse processo é a **seleção de váriáveis**, que é o momento onde eu procuro entender o quão relevante é cada variável para eu conseguir determinar o meu objeto de estudo, abaixo podemos compreender melhor esse passo a passo e compreender como um algoritimo de Machine Learning funciona.\n"
   ]
  },
  {
   "cell_type": "markdown",
   "id": "5b28f6be-81bc-4edc-9822-03f6a7655554",
   "metadata": {},
   "source": [
    "### O problema\n",
    "\n",
    "Temos uma lista com 12 bonecos, cada boneco pertence a um grupo, sendo eles <i>Animador, Conservador</i> e <i>Explorador</i>:\n",
    "\n",
    "<br/>\n",
    "\n",
    "<img src=\"./images/todos-bonecos-algoritimo-na-mao.png\" width=\"400\"/>\n",
    "\n",
    "<br/> \n",
    "\n",
    "O desafio é criar um algoritimo na mão que seja capaz de determinar a qual grupo (variável dependente) pertence um boneco com base em suas caracteristicas (variáveis independentes)"
   ]
  },
  {
   "cell_type": "markdown",
   "id": "7a188bc4-92b8-4638-843f-2a59a007578b",
   "metadata": {},
   "source": [
    "### Seleção de variáveis\n",
    "\n",
    "A primeira etapa é fazer um levantamento de quais variáveis independentes são relevantes pra conseguir determinar a qual grupo pertence um boneco. Por tanto abaixo vamos escolher algumas caracteristicas dos bonecos e verificar o nível de influência dela em cada grupo."
   ]
  },
  {
   "cell_type": "markdown",
   "id": "3dd7d056-d23c-4cf7-9295-2188fb436fb6",
   "metadata": {},
   "source": [
    "#### Bigode 🥸"
   ]
  },
  {
   "cell_type": "markdown",
   "id": "37040c2c-5ec1-41e4-a02c-86b794162866",
   "metadata": {},
   "source": [
    "| Grupo               | Grupo dos que tem | Grupo dos que não tem |\n",
    "|---------------------|-------------------|-----------------------|\n",
    "| Explorador          | 3                 | 2                     |  \n",
    "| Conservador         | 2                 | 2                     |  \n",
    "| Animador            | 1                 | 2                     |  \n",
    "\n",
    "<br/>\n",
    "\n",
    "Essa variável não parece ser relevante e por quê? **O que buscamos aqui é diminuir a complexidade do problema**, nós temos 3 diferentes grupos e queremos buscar uma caracteristica que seja fortemente influente em um deles. \n",
    "\n",
    "Mas para o caso de \"bigode\" o que temos é uma presença bem balanceada de integrantes de ambos os grupos, tanto para os que tem tanto os que não tem -O que significa que mesmo separando os bonecos por essa caracteristica tenho que lidar com o mesmo problema inicial, e com isso não tive a dimensionalidade do problema reduzida - O que buscamos é uma caracteristica (variável independente) que vai resultar em uma forte presença ou auséncia de um dos grupos."
   ]
  },
  {
   "cell_type": "markdown",
   "id": "1289d8d8-5ac1-4674-801f-83fc78d106e9",
   "metadata": {},
   "source": [
    "#### Óculos 👓"
   ]
  },
  {
   "cell_type": "markdown",
   "id": "01ab6245-f893-4f45-8dce-1ffa435680d3",
   "metadata": {},
   "source": [
    "| Grupo               | Grupo dos que tem | Grupo dos que não tem |\n",
    "|---------------------|-------------------|-----------------------|\n",
    "| Explorador          | 4                 | 1                     |  \n",
    "| Conservador         | 2                 | 2                     |  \n",
    "| Animador            | 0                 | 3                     |  \n",
    "\n",
    "<br/>\n",
    "\n",
    "Agora temos uma variável aparentemente mais influente - Ela reduz a complexidade do meu problema, pois no grupo de bonecos que tem óculos eu tenho apenas 2 grupos ao invés de 3, mas é importante se atentar: No grupo de pessoas que não tem óculos eu ainda tenho os 3 grupos e isso tira um pouco do poder de influência dela nos grupos, mas ainda assim é bom ter ela mapeada."
   ]
  },
  {
   "cell_type": "markdown",
   "id": "eaabff83-25d0-40f8-9f37-c287ee5144b7",
   "metadata": {},
   "source": [
    "#### Fones de ouvido 🎧"
   ]
  },
  {
   "cell_type": "markdown",
   "id": "dd684d55-64a1-4391-9a53-d5c900016182",
   "metadata": {},
   "source": [
    "| Grupo               | Grupo dos que tem | Grupo dos que não tem |\n",
    "|---------------------|-------------------|-----------------------|\n",
    "| Explorador          | 5                 | 0                     |  \n",
    "| Conservador         | 2                 | 2                     |  \n",
    "| Animador            | 0                 | 3                     |  \n",
    "\n",
    "\n",
    "É uma variável que tem grande influência nos grupos - Note que ela reduziu a complexidade do nosso problema, no grupo \"que tem fones\" ela reduziu para 2 (Explorador e Conservador) e ao mesmo tempo no grupo  dos \"que não tem fone\" ela reduziu também para (Conservador e Animador)."
   ]
  },
  {
   "cell_type": "markdown",
   "id": "35b4b994-6f04-4e5e-a34a-e77dcb3424d7",
   "metadata": {},
   "source": [
    "### Nosso algoritimo na mão: \n",
    "\n",
    "Agora que vimos que \"fone\" é uma variável independente de grande influência para minha variável dependente, podemos começar a fazer nosso algoritimo na mão com o problema reduzido a 2 grupos e com isso vamos criar uma \"cadeia de funis\", ficaria assim: \n",
    "\n",
    "\n",
    "<img src=\"./images/algoritimo-na-mao-pt1.png\" width=\"400\"/>\n",
    "\n",
    "\n",
    "Agora podemos explorar esses \"pequenos universos\" gerados de bonecos que tem e os que não tem fone - Vamos aplicar o mesmo processo agora, selecionaremos uma caracteristica relevante deste \"subgrupo\" e verificaremos o resultado - Vamos retomar com o \"óculos\" e ver se é mais relevante aqui:\n",
    "\n",
    "\n",
    "\n",
    "| Grupo                  | Tem óculos             | Não tem óculos | \n",
    "|------------------------|------------------------| ---------------|\n",
    "| Explorador e tem fone  | 4                      | 1              | \n",
    "| Conservador e tem fone | 0                      | 2              | \n",
    "| Animador e tem fone    | 0                      | 0              | \n",
    "\n",
    "\n",
    "\n",
    "### Com isso nosso algoritimo ficaria assim: \n",
    "\n",
    "\n",
    "<img src=\"./images/algoritimo-na-mao-pt2.png\" width=\"400\"/>\n",
    "\n",
    "\n",
    "<br/>\n",
    "\n",
    "E agora nesse \"universo\" de bonecos \"Com fones de ouvido, mas não tem óculos\" que tem 3 bonecos, sendo 1 do grupo explorador e 2 do grupo conservador podemos utilizar uma outra variável que irá determinar a qual grupo que o boneo que esta nessa etapa do nosso algoritimo pertence - Vamos usar o bigode: \n",
    "\n",
    "\n",
    "<br/>\n",
    "\n",
    "\n",
    "\n",
    "| Grupo                                      | Tem bigode             | Não tem bigode | \n",
    "|--------------------------------------------|------------------------| ---------------|\n",
    "| Explorador e tem fone, mas não tem óculos  | 1                      | 0              | \n",
    "| Conservador e tem fone, mas não tem óculos | 0                      | 2              | \n",
    "| Animador e tem fone, mas não tem óculos    | 0                      | 0              | \n",
    "\n",
    "\n",
    "### E agora nosso algoritimo fica ainda mais sofisticado:\n",
    "\n",
    "\n",
    "<img src=\"./images/algoritimo-na-mao-pt3.png\" width=\"400\"/>\n",
    "\n",
    "<br/>\n",
    "\n",
    "Com este algoritimo nos tornamos estatisticamente (com margens para erros) capazes de determinar a qual grupo pertence um boneco: com fone, sem óculos e com bigode - E para determinar a classe de um boneco em qualquer cenário exige que apliquemos esse mesmo processo para todas as combinações de variáveis independentes até chegar o ponto de eu ter um \"universo reduzido\" suficientemente ao ponto de determinar a classe de que quem chegou naquela etapa do funil - Para este nosso algoritimo falta contornamos o cenário do grupo de quem \"não tem fone de ouvido\" que conta com 2 conservadores. 3 animadores e 0 exploradores (ou seja já temos uma complexidade resolvida) e para concluir podemos dividir por quem \"tem óculos\" e \"não tem óculos\"\n",
    "\n",
    "\n",
    "\n",
    "<img src=\"./images/algoritimo-na-mao-pt4.png\" width=\"400\"/>\n",
    "\n",
    "\n",
    "Pronto, agora nosso algoritimo é capaz de determinar em 100% dos casos a qual grupo pertence um boneco - O Algoritimo que escrevemos aqui é um dos mais básicos utilizado por cientistas de dados, conhecido como \"Árvore de decisão\". "
   ]
  }
 ],
 "metadata": {
  "kernelspec": {
   "display_name": "Python 3 (ipykernel)",
   "language": "python",
   "name": "python3"
  },
  "language_info": {
   "codemirror_mode": {
    "name": "ipython",
    "version": 3
   },
   "file_extension": ".py",
   "mimetype": "text/x-python",
   "name": "python",
   "nbconvert_exporter": "python",
   "pygments_lexer": "ipython3",
   "version": "3.13.3"
  }
 },
 "nbformat": 4,
 "nbformat_minor": 5
}
