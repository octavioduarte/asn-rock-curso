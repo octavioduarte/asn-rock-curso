{
 "cells": [
  {
   "cell_type": "markdown",
   "id": "697a5598-c0af-4fad-a849-27c8462fc9b6",
   "metadata": {},
   "source": [
    "### Revoluções Industriais\n",
    "\n",
    "</br>\n",
    "\n",
    "<b>Primeira revolução industrial: 1780-1830</b>: Descoberta do carvão que passou a ser explorado como fonte de energia para operar máquinas que atendiam necessidades da época - Foi onde aconteceu o processo da substituição da manufatura pela maquinofatura, ou seja, o processo produtivo passava pela sua primeira grande mudança.\n",
    "\n",
    "<b>Segunda revolução industrial: 1870-1945</b>: Descoberta do petróleo que passou a superar as limitações que o carvão trazia como fonte de energia - Além disso permitiu a expansão da industria. É importante ressaltar o surgimento do *fordismo* onde a industria passou a fragmentar o processo produtivo em etapas, etapas estas que exigiam diferentes especialidades atendidas por diferentes pessoas, ou seja, para a produção de um produto, existiam diferentes etapas cada uma operada por diferentes pessoas que normalmente tinham foco para operar apenas suas atribuições.\n",
    "\n",
    "<b>Terceira revolução industrial: 1945-Dias atuais</b>: Descoberta/Invenção de computadores que passam a ser fundamentais no processo produtivo das industrias - Criados para atender necessidade de decodificação de mensagens de inimigos durante a segunda guerra mundial, mas explorados também pela industria, dado sua grande capacidade de processamento e armazenamento.\n",
    "\n",
    "<b>Quarta revolução industrial: Dias atuais</b>: Exploração do grande volume de informações gerados pelas máquinas(computadores) - Processo esse que permite conduzir, otimizar, automatizar grandes operaçôes industriais com base em dados. Esta revolução é acompanhada também dos investimentos feitos em inteligências artificiais que nada mais são do que a exploração de grandes volumes de dados para predições, onde uma informação do passado pode ser base para compreender o futuro."
   ]
  }
 ],
 "metadata": {
  "kernelspec": {
   "display_name": "Python 3 (ipykernel)",
   "language": "python",
   "name": "python3"
  },
  "language_info": {
   "codemirror_mode": {
    "name": "ipython",
    "version": 3
   },
   "file_extension": ".py",
   "mimetype": "text/x-python",
   "name": "python",
   "nbconvert_exporter": "python",
   "pygments_lexer": "ipython3",
   "version": "3.13.3"
  }
 },
 "nbformat": 4,
 "nbformat_minor": 5
}
