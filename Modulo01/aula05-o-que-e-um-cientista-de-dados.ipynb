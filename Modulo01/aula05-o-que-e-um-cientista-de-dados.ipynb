{
 "cells": [
  {
   "cell_type": "markdown",
   "id": "19aafcd1-ff52-4a5b-ab64-be90dce75c2b",
   "metadata": {},
   "source": [
    "### O que é um Cientista de Dados?\n",
    "\n",
    "Um cientista de dados é um profissional que une conhecimentos estatísticos, domínio de negócios e habilidades tecnológicas para desenvolver modelos que apoiam a tomada de decisão e geram valor para o negócio.\n",
    "\n",
    "É importante compreender que o processo de criação de soluções baseadas em dados envolve várias etapas, cada uma com demandas específicas de conhecimento. Por isso, muitas vezes essas tarefas são divididas entre diferentes profissionais. O fluxo ideal de trabalho costuma seguir as seguintes etapas:\n",
    "\n",
    "<br/>\n",
    "\n",
    "- Compreender o problema de negócio a ser resolvido.\n",
    "\n",
    "- Coletar os dados necessários.\n",
    "\n",
    "- Aplicar análises estatísticas e exploratórias para entender os dados e avaliar sua relevância para o problema.\n",
    "\n",
    "- Desenvolver o modelo (por exemplo, um modelo de machine learning).\n",
    "\n",
    "- Testar e validar o modelo.\n",
    "\n",
    "- Implantar o modelo em ambiente de produção.\n",
    "\n",
    "- Monitorar o desempenho do modelo ao longo do tempo.\n",
    "\n",
    "- Realizar manutenções e atualizações conforme necessário.\n",
    "\n",
    "<br/>\n",
    "\n",
    "Cada uma dessas etapas exige níveis distintos de conhecimento em áreas como estatística, negócios e tecnologia. Embora seja possível que um único profissional domine todas essas competências, não é o cenário mais recomendado do ponto de vista empresarial. Centralizar todo o conhecimento em uma única pessoa pode representar riscos e gargalos para a organização. Por isso, é comum que o cientista de dados atue em conjunto com outros especialistas, contribuindo em diferentes frentes ao longo do processo."
   ]
  }
 ],
 "metadata": {
  "kernelspec": {
   "display_name": "Python 3 (ipykernel)",
   "language": "python",
   "name": "python3"
  },
  "language_info": {
   "codemirror_mode": {
    "name": "ipython",
    "version": 3
   },
   "file_extension": ".py",
   "mimetype": "text/x-python",
   "name": "python",
   "nbconvert_exporter": "python",
   "pygments_lexer": "ipython3",
   "version": "3.13.3"
  }
 },
 "nbformat": 4,
 "nbformat_minor": 5
}
