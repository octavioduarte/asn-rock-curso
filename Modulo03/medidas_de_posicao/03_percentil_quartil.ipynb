{
 "cells": [
  {
   "cell_type": "code",
   "execution_count": 2,
   "id": "52558532-2296-4263-8ef2-e83d35efede3",
   "metadata": {},
   "outputs": [],
   "source": [
    "import numpy as np"
   ]
  },
  {
   "cell_type": "markdown",
   "id": "dcaf2ff2-4242-4164-9fe1-7c0ae60ee771",
   "metadata": {},
   "source": [
    "### Percentil"
   ]
  },
  {
   "cell_type": "markdown",
   "id": "4e9ce3f4-19ce-4851-9d68-225c695f595e",
   "metadata": {},
   "source": [
    "O percentil é uma medida na estatística que visa organizar nosso conjunto de forma crescente e dividi-lo em 100 partes iguais - A partir disso você pode identificar quantos por cento dos seus dados estão abaixo de um determinado valor.\n",
    "\n",
    "\n",
    "Então imagine uma lista contendo a altura de pessoas, algo como:\n",
    "\n",
    "[ 1.68, 1.91, 1.89, 2.03, 1.76, 1.86]\n",
    "\n",
    "<br/>\n",
    "\n",
    "O percentil visa organizar essa lista em ordem crescente:\n",
    "\n",
    "<br/>\n",
    "\n",
    "[ 1.68, 1.76, 1.86, 1.89, 1.91, 2.03]\n",
    "\n",
    "\n",
    "E a partir disso aplicar a seguinte fórmula para extrairmos um percentil qualquer:\n",
    "\n",
    "$$\n",
    "P = \\frac{(n+1) \\cdot p}{100}\n",
    "$$\n",
    "𝑛 = tamanho do conjunto <br/>\n",
    "𝑝 = percentil desejado\n",
    "\n",
    "<br/>\n",
    "\n",
    "Então se eu desejo P33 ou seja desejo saber qual valor determina que 33% das alturas do meu conjunto de dados estão abaixo:\n",
    "\n",
    "Nosso conjunto tem 6 elementos, por tanto n = 6\n",
    "\n",
    "$$\n",
    "P33 = \\frac{(6+1) \\cdot 33}{100}\n",
    "$$\n",
    "\n",
    "$$\n",
    "P33= \\frac{231 }{100}\n",
    "$$\n",
    "\n",
    "$$\n",
    "P33 = 2.31\n",
    "$$\n",
    "\n",
    "Como nosso P resultou em um número não inteiro precisamos interpolar os valores \"vizinhos\", como resultou em 2.31 seria o valor da posição 2 e da posição 3 sendo: \n",
    "\n",
    "1.76 e 1.86\n",
    "\n",
    "$$\n",
    "P33 =  1.76 + 0.31 \\cdot (1.86 - 1.76) \n",
    "$$\n",
    "\n",
    "$$\n",
    "P33 =  1.76 + 0.031\n",
    "$$\n",
    "\n",
    "\n",
    "$$\n",
    "P33 =  1.79\n",
    "$$\n",
    "\n",
    "Com isso podemos afirmar que 1.79 determina é o valor na qual 33% dos usuários tem altura menor ou igual."
   ]
  },
  {
   "cell_type": "code",
   "execution_count": 11,
   "id": "5f50b434-0300-4f26-8f68-f9fd2812d628",
   "metadata": {},
   "outputs": [
    {
     "data": {
      "text/plain": [
       "np.float64(1.7910000000000001)"
      ]
     },
     "execution_count": 11,
     "metadata": {},
     "output_type": "execute_result"
    }
   ],
   "source": [
    "data_height = np.array([ 1.68, 1.76, 1.86, 1.89, 1.91, 2.03])\n",
    "p33 = np.percentile(data_height, 33, method=\"weibull\")\n",
    "p33"
   ]
  }
 ],
 "metadata": {
  "kernelspec": {
   "display_name": "Python 3 (ipykernel)",
   "language": "python",
   "name": "python3"
  },
  "language_info": {
   "codemirror_mode": {
    "name": "ipython",
    "version": 3
   },
   "file_extension": ".py",
   "mimetype": "text/x-python",
   "name": "python",
   "nbconvert_exporter": "python",
   "pygments_lexer": "ipython3",
   "version": "3.13.5"
  }
 },
 "nbformat": 4,
 "nbformat_minor": 5
}
