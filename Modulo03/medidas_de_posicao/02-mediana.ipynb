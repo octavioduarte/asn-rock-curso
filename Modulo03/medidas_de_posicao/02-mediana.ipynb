{
 "cells": [
  {
   "cell_type": "code",
   "execution_count": 2,
   "id": "cc311502-04c7-4b37-938a-b85b0b5a1fa5",
   "metadata": {},
   "outputs": [],
   "source": [
    "import numpy as np"
   ]
  },
  {
   "cell_type": "markdown",
   "id": "c638f00c-c7db-4619-a829-11bf62b8a5ff",
   "metadata": {},
   "source": [
    "### Mediana"
   ]
  },
  {
   "cell_type": "markdown",
   "id": "2d3975c1-cb93-4e4e-b81f-a0f7196109ad",
   "metadata": {},
   "source": [
    "A mediana é uma métrica que utilizamos para identificar o valor central de um conjunto de dados. Através dela podemos identificar <b><u>outliers</u></b> (valores muito destoante dos demais). A mediana consiste em organizar nosso conjunto de maneira cresencente e depois dividi-los em 2 grupos com o mesmo conjunto de elementos - Se o total de elementos for ímpar a mediana será o valor central entre os dois conjuntos, caso seja par será a média dos dois valores do meio.\n",
    "\n",
    "\n",
    "Fórmula quando o total de conjuntos é ímpar:\n",
    "\n",
    "<br/>\n",
    "\n",
    "<img src=\"../imagens/formula_mediana_impar.webp\" alt=\"Fórmula mediana quando o total de conjuntos é ímpar\" width=200/>\n",
    "\n",
    "<br/>\n",
    "\n",
    "Fórmula quando o total de conjuntos é par:\n",
    "\n",
    "<br/>\n",
    "<br/>\n",
    "\n",
    "<img src=\"../imagens/formula_mediana_par.webp\" alt=\"Fórmula mediana quando o total de conjuntos é par\" width=200/>"
   ]
  },
  {
   "cell_type": "code",
   "execution_count": 21,
   "id": "5ef793e5-ae8a-41bc-9a1c-d1a0bf7a0bb2",
   "metadata": {},
   "outputs": [
    {
     "name": "stdout",
     "output_type": "stream",
     "text": [
      "19.0\n",
      "23.0\n"
     ]
    }
   ],
   "source": [
    "data_with_even_size = np.array([8, 15, 23, 30])\n",
    "data_with_odd_size = np.array([8, 15, 23, 50, 70])\n",
    "\n",
    "print(np.median(data_with_even_size)) # (15 + 23) / 2\n",
    "print(np.median(data_with_odd_size))"
   ]
  },
  {
   "cell_type": "markdown",
   "id": "4df14ebc-2a5a-4caf-a71c-082cdbfaeb67",
   "metadata": {},
   "source": [
    "Se o valor da mediana for muito diferente da média, signfica que o valor da média foi fortemente influenciado por um dado destoante dos demais (seja pro conjunto inferior ou superior)."
   ]
  },
  {
   "cell_type": "code",
   "execution_count": 20,
   "id": "83b4cd7e-f435-4cb1-b22a-f88d457714b3",
   "metadata": {},
   "outputs": [
    {
     "name": "stdout",
     "output_type": "stream",
     "text": [
      "Média sendo influenciada pelo destoante 219.2\n",
      "Mediana com um valor bem diferente 23.0\n"
     ]
    }
   ],
   "source": [
    "data_with_discordant_value = np.array([8, 15, 23, 50, 1000])\n",
    "\n",
    "print(\"Média sendo influenciada pelo destoante\", data_with_discordant_value.mean())\n",
    "print(\"Mediana com um valor bem diferente\", np.median(data_with_discordant_value))"
   ]
  },
  {
   "cell_type": "code",
   "execution_count": 19,
   "id": "5c616800-a97a-4654-a117-c8605f58343a",
   "metadata": {},
   "outputs": [
    {
     "name": "stdout",
     "output_type": "stream",
     "text": [
      "Média mais próxima da mediana com dados uniformes 24.0\n",
      "Mediana mais próxima da média com dados uniformes 19.0\n"
     ]
    }
   ],
   "source": [
    "data_without_discordant_value = np.array([8, 15, 23, 50])\n",
    "\n",
    "\n",
    "print(\"Média mais próxima da mediana com dados uniformes\", data_without_discordant_value.mean())\n",
    "print(\"Mediana mais próxima da média com dados uniformes\", np.median(data_without_discordant_value))"
   ]
  }
 ],
 "metadata": {
  "kernelspec": {
   "display_name": "Python 3 (ipykernel)",
   "language": "python",
   "name": "python3"
  },
  "language_info": {
   "codemirror_mode": {
    "name": "ipython",
    "version": 3
   },
   "file_extension": ".py",
   "mimetype": "text/x-python",
   "name": "python",
   "nbconvert_exporter": "python",
   "pygments_lexer": "ipython3",
   "version": "3.13.5"
  }
 },
 "nbformat": 4,
 "nbformat_minor": 5
}
