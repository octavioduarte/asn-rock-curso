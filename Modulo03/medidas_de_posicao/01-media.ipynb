{
 "cells": [
  {
   "cell_type": "code",
   "execution_count": 3,
   "id": "1802dcc1-6f58-4078-85db-526ada42d212",
   "metadata": {},
   "outputs": [],
   "source": [
    "import numpy as np"
   ]
  },
  {
   "cell_type": "markdown",
   "id": "2fe892a5-8c06-424d-844d-cdca6fdc3057",
   "metadata": {},
   "source": [
    "### Média"
   ]
  },
  {
   "cell_type": "markdown",
   "id": "d9e2c87c-eae2-4c33-9307-73a5345915c8",
   "metadata": {},
   "source": [
    "A média é o resultado da soma de um conjunto de dados dividido pela quantidade de elementos dentro desse conjunto.\n",
    "\n",
    "É uma medida muito influenciada pelos valores então **seu uso é mais adequado quando estamos lidando com uma distribuição uniforme** dos mesmos.\n",
    "\n",
    "<br/>\n",
    "<br/>\n",
    "\n",
    "\n",
    "<img src=\"../imagens/formula_media.webp\" alt=\"Fórmula Média\" width=100/>\n",
    "\n",
    "Onde: \n",
    "\n",
    "- N é o número total de valores na população,\n",
    "- xi​ são os valores individuais na população,\n",
    "- μ é a média populacional."
   ]
  },
  {
   "cell_type": "code",
   "execution_count": 6,
   "id": "fe95c40a-be55-4db3-b274-9c720684f772",
   "metadata": {},
   "outputs": [
    {
     "data": {
      "text/plain": [
       "np.float64(13.25)"
      ]
     },
     "execution_count": 6,
     "metadata": {},
     "output_type": "execute_result"
    }
   ],
   "source": [
    "data = np.array([7, 9, 12, 25])\n",
    "\n",
    "data.mean()"
   ]
  }
 ],
 "metadata": {
  "kernelspec": {
   "display_name": "Python 3 (ipykernel)",
   "language": "python",
   "name": "python3"
  },
  "language_info": {
   "codemirror_mode": {
    "name": "ipython",
    "version": 3
   },
   "file_extension": ".py",
   "mimetype": "text/x-python",
   "name": "python",
   "nbconvert_exporter": "python",
   "pygments_lexer": "ipython3",
   "version": "3.13.5"
  }
 },
 "nbformat": 4,
 "nbformat_minor": 5
}
